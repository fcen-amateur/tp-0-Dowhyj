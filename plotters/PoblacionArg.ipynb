{
 "cells": [
  {
   "cell_type": "code",
   "execution_count": 15,
   "id": "cad43d74-366a-4c4e-92a9-61328888c2eb",
   "metadata": {},
   "outputs": [],
   "source": [
    "import matplotlib.pyplot as plt\n",
    "import seaborn as sns\n",
    "import seaborn.objects as so\n",
    "from gapminder import gapminder\n",
    "\n",
    "def plot():\n",
    "\n",
    "    figura = (\n",
    "        so.plot(gapminder[gapminder.country == \"Argentina\"], x = \"year\", y = \"pop\")\n",
    "        .add(so.Line())\n",
    "        .add(so.Dot())\n",
    "\n",
    "        .label(\n",
    "            title = \"Población Argentina\",\n",
    "            x = \"Año\",\n",
    "            y = \"Población\",)\n",
    "        )\n",
    "\n",
    "    return dict(\n",
    "        descripcion = \"Cada vez somos mas argentinos\",\n",
    "        autor = \"Lucas Dowhyj\",\n",
    "        figura = figura,\n",
    "    )\n",
    "                \n",
    "    \n",
    "\n",
    "    \n",
    "   "
   ]
  }
 ],
 "metadata": {
  "kernelspec": {
   "display_name": "Python 3 (ipykernel)",
   "language": "python",
   "name": "python3"
  },
  "language_info": {
   "codemirror_mode": {
    "name": "ipython",
    "version": 3
   },
   "file_extension": ".py",
   "mimetype": "text/x-python",
   "name": "python",
   "nbconvert_exporter": "python",
   "pygments_lexer": "ipython3",
   "version": "3.11.7"
  }
 },
 "nbformat": 4,
 "nbformat_minor": 5
}
